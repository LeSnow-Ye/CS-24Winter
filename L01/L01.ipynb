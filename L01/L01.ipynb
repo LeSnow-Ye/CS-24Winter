{
 "cells": [
  {
   "cell_type": "code",
   "execution_count": 55,
   "metadata": {},
   "outputs": [
    {
     "name": "stdout",
     "output_type": "stream",
     "text": [
      "# 字符串里的 # 会照常打印\n"
     ]
    }
   ],
   "source": [
    "'''\n",
    "多行注释\n",
    "line b\n",
    "'''\n",
    "\n",
    "\"\"\"\n",
    "多行注释\n",
    "也可以用双引号\n",
    "\"\"\"\n",
    "\n",
    "# 单行注释\n",
    "\n",
    "print('# 字符串里的 # 会照常打印')"
   ]
  },
  {
   "cell_type": "code",
   "execution_count": 56,
   "metadata": {},
   "outputs": [
    {
     "name": "stdout",
     "output_type": "stream",
     "text": [
      "40\n",
      "30\n",
      "250\n",
      "3.2\n",
      "3\n",
      "1\n",
      "125\n"
     ]
    }
   ],
   "source": [
    "print(10 + 30)  # => 40\n",
    "print(40 - 10)  # => 30\n",
    "print(50 * 5)  # => 250\n",
    "print(16 / 5)  # => 3.2 (Float Division)\n",
    "print(16 // 5)  # => 3 (Integer Division)\n",
    "print(25 % 2)  # => 1\n",
    "print(5**3)  # => 125"
   ]
  },
  {
   "cell_type": "code",
   "execution_count": 57,
   "metadata": {},
   "outputs": [
    {
     "name": "stdout",
     "output_type": "stream",
     "text": [
      "173 : 0b10101101\n",
      "235 : 0b11101011\n",
      "239 : 0b11101111\n",
      "70 : 0b1000110\n",
      "169 : 0b10101001\n",
      "-174 : -0b10101110\n",
      "692 : 0b1010110100\n",
      "43 : 0b101011\n"
     ]
    }
   ],
   "source": [
    "a = 0b10101101\n",
    "b = 0b11101011\n",
    "print(f\"{a} : {bin(a)}\")\n",
    "print(f\"{b} : {bin(b)}\")\n",
    "print(f\"{a | b} : {bin(a | b)}\") # or\n",
    "print(f\"{a ^ b} : {bin(a ^ b)}\") # xor\n",
    "print(f\"{a & b} : {bin(a & b)}\") # and\n",
    "print(f\"{~a} : {bin(~a)}\")       # not\n",
    "print(f\"{a << 2} : {bin(a << 2)}\")\n",
    "print(f\"{a >> 2} : {bin(a >> 2)}\")"
   ]
  },
  {
   "cell_type": "code",
   "execution_count": 58,
   "metadata": {},
   "outputs": [
    {
     "name": "stdout",
     "output_type": "stream",
     "text": [
      "0\n",
      "1\n",
      "2\n",
      "3\n",
      "4\n",
      "5\n",
      "6\n",
      "7\n",
      "8\n",
      "9\n"
     ]
    }
   ],
   "source": [
    "a = 1\n",
    "for a in range(10) :\n",
    "    print(a)\n"
   ]
  },
  {
   "cell_type": "markdown",
   "metadata": {},
   "source": [
    "```c\n",
    "for (int a = 1; a <= 100; a++)\n",
    "{\n",
    "    ...\n",
    "}\n",
    "```"
   ]
  },
  {
   "cell_type": "code",
   "execution_count": 11,
   "metadata": {},
   "outputs": [
    {
     "data": {
      "text/plain": [
       "True"
      ]
     },
     "execution_count": 11,
     "metadata": {},
     "output_type": "execute_result"
    }
   ],
   "source": [
    "num = 10_000\n",
    "bin_ = 0b10011100010000 # bin(num)\n",
    "hex_ = 0x2710           # hex(num)\n",
    "oct_ = 0o23420          # oct(num)\n",
    "\n",
    "num == bin_ == hex_ == oct_"
   ]
  }
 ],
 "metadata": {
  "kernelspec": {
   "display_name": "Python 3",
   "language": "python",
   "name": "python3"
  },
  "language_info": {
   "codemirror_mode": {
    "name": "ipython",
    "version": 3
   },
   "file_extension": ".py",
   "mimetype": "text/x-python",
   "name": "python",
   "nbconvert_exporter": "python",
   "pygments_lexer": "ipython3",
   "version": "3.10.6"
  }
 },
 "nbformat": 4,
 "nbformat_minor": 2
}
